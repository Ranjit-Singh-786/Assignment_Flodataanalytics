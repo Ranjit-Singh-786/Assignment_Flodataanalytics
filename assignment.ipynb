{
 "cells": [
  {
   "cell_type": "markdown",
   "id": "e9ceb28e",
   "metadata": {},
   "source": [
    ">> ### Time Series Forecating Assignment By -->(Flodataanalytics)"
   ]
  },
  {
   "cell_type": "code",
   "execution_count": 183,
   "id": "4fb1f343",
   "metadata": {},
   "outputs": [],
   "source": [
    "import pandas as pd\n",
    "import numpy as np\n",
    "import matplotlib.pyplot as plt\n",
    "import seaborn as sns\n",
    "from statsmodels.tsa.stattools import adfuller\n",
    "from statsmodels.graphics.tsaplots import plot_acf,plot_pacf\n",
    "import statsmodels.api as sm"
   ]
  },
  {
   "cell_type": "code",
   "execution_count": 143,
   "id": "cacd2030",
   "metadata": {},
   "outputs": [
    {
     "data": {
      "text/html": [
       "<div>\n",
       "<style scoped>\n",
       "    .dataframe tbody tr th:only-of-type {\n",
       "        vertical-align: middle;\n",
       "    }\n",
       "\n",
       "    .dataframe tbody tr th {\n",
       "        vertical-align: top;\n",
       "    }\n",
       "\n",
       "    .dataframe thead th {\n",
       "        text-align: right;\n",
       "    }\n",
       "</style>\n",
       "<table border=\"1\" class=\"dataframe\">\n",
       "  <thead>\n",
       "    <tr style=\"text-align: right;\">\n",
       "      <th></th>\n",
       "      <th>RD_NO</th>\n",
       "      <th>CRASH_DATE</th>\n",
       "    </tr>\n",
       "  </thead>\n",
       "  <tbody>\n",
       "    <tr>\n",
       "      <th>0</th>\n",
       "      <td>JG112333</td>\n",
       "      <td>12/31/2022 12:58:00 PM</td>\n",
       "    </tr>\n",
       "    <tr>\n",
       "      <th>1</th>\n",
       "      <td>JF528811</td>\n",
       "      <td>12/31/2022 12:55:00 PM</td>\n",
       "    </tr>\n",
       "    <tr>\n",
       "      <th>2</th>\n",
       "      <td>JG100569</td>\n",
       "      <td>12/31/2022 12:53:00 PM</td>\n",
       "    </tr>\n",
       "    <tr>\n",
       "      <th>3</th>\n",
       "      <td>JF528214</td>\n",
       "      <td>12/31/2022 12:52:00 AM</td>\n",
       "    </tr>\n",
       "    <tr>\n",
       "      <th>4</th>\n",
       "      <td>JF528778</td>\n",
       "      <td>12/31/2022 12:47:00 PM</td>\n",
       "    </tr>\n",
       "  </tbody>\n",
       "</table>\n",
       "</div>"
      ],
      "text/plain": [
       "      RD_NO              CRASH_DATE\n",
       "0  JG112333  12/31/2022 12:58:00 PM\n",
       "1  JF528811  12/31/2022 12:55:00 PM\n",
       "2  JG100569  12/31/2022 12:53:00 PM\n",
       "3  JF528214  12/31/2022 12:52:00 AM\n",
       "4  JF528778  12/31/2022 12:47:00 PM"
      ]
     },
     "execution_count": 143,
     "metadata": {},
     "output_type": "execute_result"
    }
   ],
   "source": [
    "df = pd.read_csv('data.csv')\n",
    "df.head()\n",
    "## reading the dataset"
   ]
  },
  {
   "cell_type": "code",
   "execution_count": 144,
   "id": "2f8b646d",
   "metadata": {},
   "outputs": [],
   "source": [
    "date_list = []\n",
    "for item in df['CRASH_DATE'].str.split(' '):\n",
    "    date_list.append(item[0])\n",
    "    \n",
    "df['Date'] = date_list    \n",
    "## extracting Date from CRASH_DATE Columns"
   ]
  },
  {
   "cell_type": "code",
   "execution_count": 145,
   "id": "25fb94de",
   "metadata": {},
   "outputs": [
    {
     "data": {
      "text/html": [
       "<div>\n",
       "<style scoped>\n",
       "    .dataframe tbody tr th:only-of-type {\n",
       "        vertical-align: middle;\n",
       "    }\n",
       "\n",
       "    .dataframe tbody tr th {\n",
       "        vertical-align: top;\n",
       "    }\n",
       "\n",
       "    .dataframe thead th {\n",
       "        text-align: right;\n",
       "    }\n",
       "</style>\n",
       "<table border=\"1\" class=\"dataframe\">\n",
       "  <thead>\n",
       "    <tr style=\"text-align: right;\">\n",
       "      <th></th>\n",
       "      <th>RD_NO</th>\n",
       "      <th>Date</th>\n",
       "    </tr>\n",
       "  </thead>\n",
       "  <tbody>\n",
       "    <tr>\n",
       "      <th>0</th>\n",
       "      <td>JG112333</td>\n",
       "      <td>12/31/2022</td>\n",
       "    </tr>\n",
       "    <tr>\n",
       "      <th>1</th>\n",
       "      <td>JF528811</td>\n",
       "      <td>12/31/2022</td>\n",
       "    </tr>\n",
       "    <tr>\n",
       "      <th>2</th>\n",
       "      <td>JG100569</td>\n",
       "      <td>12/31/2022</td>\n",
       "    </tr>\n",
       "    <tr>\n",
       "      <th>3</th>\n",
       "      <td>JF528214</td>\n",
       "      <td>12/31/2022</td>\n",
       "    </tr>\n",
       "    <tr>\n",
       "      <th>4</th>\n",
       "      <td>JF528778</td>\n",
       "      <td>12/31/2022</td>\n",
       "    </tr>\n",
       "  </tbody>\n",
       "</table>\n",
       "</div>"
      ],
      "text/plain": [
       "      RD_NO        Date\n",
       "0  JG112333  12/31/2022\n",
       "1  JF528811  12/31/2022\n",
       "2  JG100569  12/31/2022\n",
       "3  JF528214  12/31/2022\n",
       "4  JF528778  12/31/2022"
      ]
     },
     "execution_count": 145,
     "metadata": {},
     "output_type": "execute_result"
    }
   ],
   "source": [
    "df.drop(['CRASH_DATE'],axis=1,inplace=True)\n",
    "df.head()\n",
    "## droping CRASH_DATE column"
   ]
  },
  {
   "cell_type": "code",
   "execution_count": 146,
   "id": "e29d2c14",
   "metadata": {},
   "outputs": [],
   "source": [
    "df['Date'] = pd.to_datetime(df['Date'])\n",
    "## converting Date column into Datetime dtype"
   ]
  },
  {
   "cell_type": "code",
   "execution_count": 134,
   "id": "90fd789e",
   "metadata": {},
   "outputs": [
    {
     "data": {
      "text/plain": [
       "RD_NO            object\n",
       "Date     datetime64[ns]\n",
       "dtype: object"
      ]
     },
     "execution_count": 134,
     "metadata": {},
     "output_type": "execute_result"
    }
   ],
   "source": [
    "df.dtypes"
   ]
  },
  {
   "cell_type": "code",
   "execution_count": 147,
   "id": "47522e37",
   "metadata": {},
   "outputs": [
    {
     "data": {
      "text/plain": [
       "RD_NO            object\n",
       "Date     datetime64[ns]\n",
       "dtype: object"
      ]
     },
     "execution_count": 147,
     "metadata": {},
     "output_type": "execute_result"
    }
   ],
   "source": [
    "df['RD_NO'] = df['RD_NO'].astype('O')\n",
    "df.dtypes\n",
    "## converting RD_NO column into object"
   ]
  },
  {
   "cell_type": "code",
   "execution_count": 149,
   "id": "c5a7e092",
   "metadata": {},
   "outputs": [
    {
     "data": {
      "text/html": [
       "<div>\n",
       "<style scoped>\n",
       "    .dataframe tbody tr th:only-of-type {\n",
       "        vertical-align: middle;\n",
       "    }\n",
       "\n",
       "    .dataframe tbody tr th {\n",
       "        vertical-align: top;\n",
       "    }\n",
       "\n",
       "    .dataframe thead th {\n",
       "        text-align: right;\n",
       "    }\n",
       "</style>\n",
       "<table border=\"1\" class=\"dataframe\">\n",
       "  <thead>\n",
       "    <tr style=\"text-align: right;\">\n",
       "      <th></th>\n",
       "      <th>RD_NO</th>\n",
       "      <th>Date</th>\n",
       "    </tr>\n",
       "  </thead>\n",
       "  <tbody>\n",
       "    <tr>\n",
       "      <th>0</th>\n",
       "      <td>JG112333</td>\n",
       "      <td>2022-12-31</td>\n",
       "    </tr>\n",
       "    <tr>\n",
       "      <th>1</th>\n",
       "      <td>JF528811</td>\n",
       "      <td>2022-12-31</td>\n",
       "    </tr>\n",
       "  </tbody>\n",
       "</table>\n",
       "</div>"
      ],
      "text/plain": [
       "      RD_NO       Date\n",
       "0  JG112333 2022-12-31\n",
       "1  JF528811 2022-12-31"
      ]
     },
     "execution_count": 149,
     "metadata": {},
     "output_type": "execute_result"
    }
   ],
   "source": [
    "df = df.dropna()\n",
    "df.head(2)\n",
    "## to drop all none value"
   ]
  },
  {
   "cell_type": "code",
   "execution_count": 150,
   "id": "ee353b40",
   "metadata": {},
   "outputs": [
    {
     "data": {
      "text/html": [
       "<div>\n",
       "<style scoped>\n",
       "    .dataframe tbody tr th:only-of-type {\n",
       "        vertical-align: middle;\n",
       "    }\n",
       "\n",
       "    .dataframe tbody tr th {\n",
       "        vertical-align: top;\n",
       "    }\n",
       "\n",
       "    .dataframe thead th {\n",
       "        text-align: right;\n",
       "    }\n",
       "</style>\n",
       "<table border=\"1\" class=\"dataframe\">\n",
       "  <thead>\n",
       "    <tr style=\"text-align: right;\">\n",
       "      <th></th>\n",
       "      <th>RD_NO</th>\n",
       "      <th>Date</th>\n",
       "    </tr>\n",
       "  </thead>\n",
       "  <tbody>\n",
       "    <tr>\n",
       "      <th>0</th>\n",
       "      <td>JG112333</td>\n",
       "      <td>2022-12-31</td>\n",
       "    </tr>\n",
       "    <tr>\n",
       "      <th>2</th>\n",
       "      <td>JG100569</td>\n",
       "      <td>2022-12-31</td>\n",
       "    </tr>\n",
       "    <tr>\n",
       "      <th>26</th>\n",
       "      <td>JG101904</td>\n",
       "      <td>2022-12-31</td>\n",
       "    </tr>\n",
       "    <tr>\n",
       "      <th>27</th>\n",
       "      <td>JG102655</td>\n",
       "      <td>2022-12-31</td>\n",
       "    </tr>\n",
       "    <tr>\n",
       "      <th>28</th>\n",
       "      <td>JG101906</td>\n",
       "      <td>2022-12-31</td>\n",
       "    </tr>\n",
       "  </tbody>\n",
       "</table>\n",
       "</div>"
      ],
      "text/plain": [
       "       RD_NO       Date\n",
       "0   JG112333 2022-12-31\n",
       "2   JG100569 2022-12-31\n",
       "26  JG101904 2022-12-31\n",
       "27  JG102655 2022-12-31\n",
       "28  JG101906 2022-12-31"
      ]
     },
     "execution_count": 150,
     "metadata": {},
     "output_type": "execute_result"
    }
   ],
   "source": [
    "df = df[df['RD_NO'].str.startswith('JG')]\n",
    "df.head()\n",
    "## extracting all the dataelement which start with \"JG\""
   ]
  },
  {
   "cell_type": "code",
   "execution_count": 151,
   "id": "7017ff1f",
   "metadata": {},
   "outputs": [
    {
     "data": {
      "text/html": [
       "<div>\n",
       "<style scoped>\n",
       "    .dataframe tbody tr th:only-of-type {\n",
       "        vertical-align: middle;\n",
       "    }\n",
       "\n",
       "    .dataframe tbody tr th {\n",
       "        vertical-align: top;\n",
       "    }\n",
       "\n",
       "    .dataframe thead th {\n",
       "        text-align: right;\n",
       "    }\n",
       "</style>\n",
       "<table border=\"1\" class=\"dataframe\">\n",
       "  <thead>\n",
       "    <tr style=\"text-align: right;\">\n",
       "      <th></th>\n",
       "      <th>RD_NO</th>\n",
       "      <th>Date</th>\n",
       "      <th>month</th>\n",
       "      <th>year</th>\n",
       "    </tr>\n",
       "  </thead>\n",
       "  <tbody>\n",
       "    <tr>\n",
       "      <th>0</th>\n",
       "      <td>JG112333</td>\n",
       "      <td>2022-12-31</td>\n",
       "      <td>12</td>\n",
       "      <td>2022</td>\n",
       "    </tr>\n",
       "    <tr>\n",
       "      <th>2</th>\n",
       "      <td>JG100569</td>\n",
       "      <td>2022-12-31</td>\n",
       "      <td>12</td>\n",
       "      <td>2022</td>\n",
       "    </tr>\n",
       "    <tr>\n",
       "      <th>26</th>\n",
       "      <td>JG101904</td>\n",
       "      <td>2022-12-31</td>\n",
       "      <td>12</td>\n",
       "      <td>2022</td>\n",
       "    </tr>\n",
       "    <tr>\n",
       "      <th>27</th>\n",
       "      <td>JG102655</td>\n",
       "      <td>2022-12-31</td>\n",
       "      <td>12</td>\n",
       "      <td>2022</td>\n",
       "    </tr>\n",
       "    <tr>\n",
       "      <th>28</th>\n",
       "      <td>JG101906</td>\n",
       "      <td>2022-12-31</td>\n",
       "      <td>12</td>\n",
       "      <td>2022</td>\n",
       "    </tr>\n",
       "  </tbody>\n",
       "</table>\n",
       "</div>"
      ],
      "text/plain": [
       "       RD_NO       Date  month  year\n",
       "0   JG112333 2022-12-31     12  2022\n",
       "2   JG100569 2022-12-31     12  2022\n",
       "26  JG101904 2022-12-31     12  2022\n",
       "27  JG102655 2022-12-31     12  2022\n",
       "28  JG101906 2022-12-31     12  2022"
      ]
     },
     "execution_count": 151,
     "metadata": {},
     "output_type": "execute_result"
    }
   ],
   "source": [
    "df['month'] = df['Date'].dt.month\n",
    "df['year'] = df['Date'].dt.year\n",
    "df.head()\n",
    "\n",
    "# extracting Year and Month from the date"
   ]
  },
  {
   "cell_type": "code",
   "execution_count": 153,
   "id": "29bbe1b7",
   "metadata": {},
   "outputs": [
    {
     "data": {
      "text/html": [
       "<div>\n",
       "<style scoped>\n",
       "    .dataframe tbody tr th:only-of-type {\n",
       "        vertical-align: middle;\n",
       "    }\n",
       "\n",
       "    .dataframe tbody tr th {\n",
       "        vertical-align: top;\n",
       "    }\n",
       "\n",
       "    .dataframe thead th {\n",
       "        text-align: right;\n",
       "    }\n",
       "</style>\n",
       "<table border=\"1\" class=\"dataframe\">\n",
       "  <thead>\n",
       "    <tr style=\"text-align: right;\">\n",
       "      <th></th>\n",
       "      <th>RD_NO</th>\n",
       "      <th>Date</th>\n",
       "    </tr>\n",
       "  </thead>\n",
       "  <tbody>\n",
       "    <tr>\n",
       "      <th>245724</th>\n",
       "      <td>JG309851</td>\n",
       "      <td>2023-06-21</td>\n",
       "    </tr>\n",
       "    <tr>\n",
       "      <th>247882</th>\n",
       "      <td>JG309908</td>\n",
       "      <td>2023-06-20</td>\n",
       "    </tr>\n",
       "    <tr>\n",
       "      <th>247883</th>\n",
       "      <td>JG308518</td>\n",
       "      <td>2023-06-20</td>\n",
       "    </tr>\n",
       "    <tr>\n",
       "      <th>247884</th>\n",
       "      <td>JG308498</td>\n",
       "      <td>2023-06-20</td>\n",
       "    </tr>\n",
       "    <tr>\n",
       "      <th>247885</th>\n",
       "      <td>JG308560</td>\n",
       "      <td>2023-06-20</td>\n",
       "    </tr>\n",
       "  </tbody>\n",
       "</table>\n",
       "</div>"
      ],
      "text/plain": [
       "           RD_NO       Date\n",
       "245724  JG309851 2023-06-21\n",
       "247882  JG309908 2023-06-20\n",
       "247883  JG308518 2023-06-20\n",
       "247884  JG308498 2023-06-20\n",
       "247885  JG308560 2023-06-20"
      ]
     },
     "execution_count": 153,
     "metadata": {},
     "output_type": "execute_result"
    }
   ],
   "source": [
    "df2 = df[(df['month']>=4) & (df['month']<=6) & (df['year']==2023)][['RD_NO','Date']]\n",
    "df2.head()\n",
    "\n",
    "# sorting the dataset as per the guidance"
   ]
  },
  {
   "cell_type": "code",
   "execution_count": 155,
   "id": "7374ed9f",
   "metadata": {},
   "outputs": [
    {
     "data": {
      "text/plain": [
       "(25457, 2)"
      ]
     },
     "execution_count": 155,
     "metadata": {},
     "output_type": "execute_result"
    }
   ],
   "source": [
    "df2.shape\n",
    "## shape of the data after filteration"
   ]
  },
  {
   "cell_type": "code",
   "execution_count": 156,
   "id": "9a6b605e",
   "metadata": {},
   "outputs": [],
   "source": [
    "df = df2"
   ]
  },
  {
   "cell_type": "code",
   "execution_count": 157,
   "id": "6030417b",
   "metadata": {},
   "outputs": [
    {
     "data": {
      "text/html": [
       "<div>\n",
       "<style scoped>\n",
       "    .dataframe tbody tr th:only-of-type {\n",
       "        vertical-align: middle;\n",
       "    }\n",
       "\n",
       "    .dataframe tbody tr th {\n",
       "        vertical-align: top;\n",
       "    }\n",
       "\n",
       "    .dataframe thead th {\n",
       "        text-align: right;\n",
       "    }\n",
       "</style>\n",
       "<table border=\"1\" class=\"dataframe\">\n",
       "  <thead>\n",
       "    <tr style=\"text-align: right;\">\n",
       "      <th></th>\n",
       "      <th>RD_NO</th>\n",
       "      <th>Date</th>\n",
       "    </tr>\n",
       "  </thead>\n",
       "  <tbody>\n",
       "    <tr>\n",
       "      <th>245724</th>\n",
       "      <td>309851</td>\n",
       "      <td>2023-06-21</td>\n",
       "    </tr>\n",
       "    <tr>\n",
       "      <th>247882</th>\n",
       "      <td>309908</td>\n",
       "      <td>2023-06-20</td>\n",
       "    </tr>\n",
       "    <tr>\n",
       "      <th>247883</th>\n",
       "      <td>308518</td>\n",
       "      <td>2023-06-20</td>\n",
       "    </tr>\n",
       "    <tr>\n",
       "      <th>247884</th>\n",
       "      <td>308498</td>\n",
       "      <td>2023-06-20</td>\n",
       "    </tr>\n",
       "    <tr>\n",
       "      <th>247885</th>\n",
       "      <td>308560</td>\n",
       "      <td>2023-06-20</td>\n",
       "    </tr>\n",
       "  </tbody>\n",
       "</table>\n",
       "</div>"
      ],
      "text/plain": [
       "         RD_NO       Date\n",
       "245724  309851 2023-06-21\n",
       "247882  309908 2023-06-20\n",
       "247883  308518 2023-06-20\n",
       "247884  308498 2023-06-20\n",
       "247885  308560 2023-06-20"
      ]
     },
     "execution_count": 157,
     "metadata": {},
     "output_type": "execute_result"
    }
   ],
   "source": [
    "clean_data = []\n",
    "for item in df['RD_NO'].values:\n",
    "    clean_data.append(item[2:])\n",
    "\n",
    "df['RD_NO'] = clean_data\n",
    "df.head()\n",
    "## removing 'JG' tag from the RD_NO"
   ]
  },
  {
   "cell_type": "code",
   "execution_count": 158,
   "id": "2f713d6e",
   "metadata": {},
   "outputs": [
    {
     "data": {
      "text/html": [
       "<div>\n",
       "<style scoped>\n",
       "    .dataframe tbody tr th:only-of-type {\n",
       "        vertical-align: middle;\n",
       "    }\n",
       "\n",
       "    .dataframe tbody tr th {\n",
       "        vertical-align: top;\n",
       "    }\n",
       "\n",
       "    .dataframe thead th {\n",
       "        text-align: right;\n",
       "    }\n",
       "</style>\n",
       "<table border=\"1\" class=\"dataframe\">\n",
       "  <thead>\n",
       "    <tr style=\"text-align: right;\">\n",
       "      <th></th>\n",
       "      <th>RD_NO</th>\n",
       "      <th>Date</th>\n",
       "    </tr>\n",
       "  </thead>\n",
       "  <tbody>\n",
       "    <tr>\n",
       "      <th>467736</th>\n",
       "      <td>208690</td>\n",
       "      <td>2023-04-01</td>\n",
       "    </tr>\n",
       "    <tr>\n",
       "      <th>467559</th>\n",
       "      <td>207420</td>\n",
       "      <td>2023-04-01</td>\n",
       "    </tr>\n",
       "    <tr>\n",
       "      <th>467558</th>\n",
       "      <td>207431</td>\n",
       "      <td>2023-04-01</td>\n",
       "    </tr>\n",
       "    <tr>\n",
       "      <th>467557</th>\n",
       "      <td>207533</td>\n",
       "      <td>2023-04-01</td>\n",
       "    </tr>\n",
       "    <tr>\n",
       "      <th>467556</th>\n",
       "      <td>209551</td>\n",
       "      <td>2023-04-01</td>\n",
       "    </tr>\n",
       "  </tbody>\n",
       "</table>\n",
       "</div>"
      ],
      "text/plain": [
       "         RD_NO       Date\n",
       "467736  208690 2023-04-01\n",
       "467559  207420 2023-04-01\n",
       "467558  207431 2023-04-01\n",
       "467557  207533 2023-04-01\n",
       "467556  209551 2023-04-01"
      ]
     },
     "execution_count": 158,
     "metadata": {},
     "output_type": "execute_result"
    }
   ],
   "source": [
    "df = df.sort_values(['Date'])\n",
    "df.head()\n",
    "\n",
    "# sorting the dataitem based on the date"
   ]
  },
  {
   "cell_type": "code",
   "execution_count": 159,
   "id": "75ca8428",
   "metadata": {},
   "outputs": [],
   "source": [
    "#splitting the dataset  of 2023\n",
    "# train -->  april and may \n",
    "# test  -->  jun\n",
    "\n",
    "df['month'] = df['Date'].dt.month\n",
    "train = df[(df['month']>=4)&(df['month']<=5)][['RD_NO','Date']]\n",
    "test  = df[df['month']==6][['RD_NO','Date']]"
   ]
  },
  {
   "cell_type": "code",
   "execution_count": 160,
   "id": "907d9fc6",
   "metadata": {},
   "outputs": [
    {
     "data": {
      "text/html": [
       "<div>\n",
       "<style scoped>\n",
       "    .dataframe tbody tr th:only-of-type {\n",
       "        vertical-align: middle;\n",
       "    }\n",
       "\n",
       "    .dataframe tbody tr th {\n",
       "        vertical-align: top;\n",
       "    }\n",
       "\n",
       "    .dataframe thead th {\n",
       "        text-align: right;\n",
       "    }\n",
       "</style>\n",
       "<table border=\"1\" class=\"dataframe\">\n",
       "  <thead>\n",
       "    <tr style=\"text-align: right;\">\n",
       "      <th></th>\n",
       "      <th>RD_NO</th>\n",
       "      <th>Date</th>\n",
       "    </tr>\n",
       "  </thead>\n",
       "  <tbody>\n",
       "    <tr>\n",
       "      <th>467736</th>\n",
       "      <td>208690</td>\n",
       "      <td>2023-04-01</td>\n",
       "    </tr>\n",
       "    <tr>\n",
       "      <th>467559</th>\n",
       "      <td>207420</td>\n",
       "      <td>2023-04-01</td>\n",
       "    </tr>\n",
       "    <tr>\n",
       "      <th>467558</th>\n",
       "      <td>207431</td>\n",
       "      <td>2023-04-01</td>\n",
       "    </tr>\n",
       "    <tr>\n",
       "      <th>467557</th>\n",
       "      <td>207533</td>\n",
       "      <td>2023-04-01</td>\n",
       "    </tr>\n",
       "    <tr>\n",
       "      <th>467556</th>\n",
       "      <td>209551</td>\n",
       "      <td>2023-04-01</td>\n",
       "    </tr>\n",
       "  </tbody>\n",
       "</table>\n",
       "</div>"
      ],
      "text/plain": [
       "         RD_NO       Date\n",
       "467736  208690 2023-04-01\n",
       "467559  207420 2023-04-01\n",
       "467558  207431 2023-04-01\n",
       "467557  207533 2023-04-01\n",
       "467556  209551 2023-04-01"
      ]
     },
     "execution_count": 160,
     "metadata": {},
     "output_type": "execute_result"
    }
   ],
   "source": [
    "train.head()"
   ]
  },
  {
   "cell_type": "code",
   "execution_count": 161,
   "id": "40dfe81c",
   "metadata": {},
   "outputs": [
    {
     "data": {
      "text/html": [
       "<div>\n",
       "<style scoped>\n",
       "    .dataframe tbody tr th:only-of-type {\n",
       "        vertical-align: middle;\n",
       "    }\n",
       "\n",
       "    .dataframe tbody tr th {\n",
       "        vertical-align: top;\n",
       "    }\n",
       "\n",
       "    .dataframe thead th {\n",
       "        text-align: right;\n",
       "    }\n",
       "</style>\n",
       "<table border=\"1\" class=\"dataframe\">\n",
       "  <thead>\n",
       "    <tr style=\"text-align: right;\">\n",
       "      <th></th>\n",
       "      <th>RD_NO</th>\n",
       "      <th>Date</th>\n",
       "    </tr>\n",
       "  </thead>\n",
       "  <tbody>\n",
       "    <tr>\n",
       "      <th>466792</th>\n",
       "      <td>284171</td>\n",
       "      <td>2023-06-01</td>\n",
       "    </tr>\n",
       "    <tr>\n",
       "      <th>466793</th>\n",
       "      <td>284191</td>\n",
       "      <td>2023-06-01</td>\n",
       "    </tr>\n",
       "    <tr>\n",
       "      <th>466794</th>\n",
       "      <td>284208</td>\n",
       "      <td>2023-06-01</td>\n",
       "    </tr>\n",
       "    <tr>\n",
       "      <th>466795</th>\n",
       "      <td>284219</td>\n",
       "      <td>2023-06-01</td>\n",
       "    </tr>\n",
       "    <tr>\n",
       "      <th>466796</th>\n",
       "      <td>284234</td>\n",
       "      <td>2023-06-01</td>\n",
       "    </tr>\n",
       "  </tbody>\n",
       "</table>\n",
       "</div>"
      ],
      "text/plain": [
       "         RD_NO       Date\n",
       "466792  284171 2023-06-01\n",
       "466793  284191 2023-06-01\n",
       "466794  284208 2023-06-01\n",
       "466795  284219 2023-06-01\n",
       "466796  284234 2023-06-01"
      ]
     },
     "execution_count": 161,
     "metadata": {},
     "output_type": "execute_result"
    }
   ],
   "source": [
    "test.head()"
   ]
  },
  {
   "cell_type": "code",
   "execution_count": 162,
   "id": "66c8b06c",
   "metadata": {},
   "outputs": [],
   "source": [
    "## set date as an index\n",
    "\n",
    "train.set_index('Date',inplace=True)\n",
    "test.set_index('Date',inplace=True)"
   ]
  },
  {
   "cell_type": "code",
   "execution_count": 163,
   "id": "0aaf7425",
   "metadata": {},
   "outputs": [
    {
     "data": {
      "text/plain": [
       "Int64Index([5, 4, 6], dtype='int64')"
      ]
     },
     "execution_count": 163,
     "metadata": {},
     "output_type": "execute_result"
    }
   ],
   "source": [
    "df['month'].value_counts().index\n",
    "\n",
    "## only  considederd 3 month for the project\n",
    "## 2 month for training 1 for testing"
   ]
  },
  {
   "cell_type": "code",
   "execution_count": 165,
   "id": "55dc6f1d",
   "metadata": {},
   "outputs": [],
   "source": [
    "import os\n",
    "os.makedirs('filter_data',exist_ok=True)\n",
    "train.to_csv('filter_data/train.csv',index=False)\n",
    "test.to_csv('filter_data/test.csv',index=False)\n",
    "\n",
    "# save the filtered data"
   ]
  },
  {
   "cell_type": "code",
   "execution_count": 166,
   "id": "effbf9c5",
   "metadata": {},
   "outputs": [
    {
     "data": {
      "text/html": [
       "<div>\n",
       "<style scoped>\n",
       "    .dataframe tbody tr th:only-of-type {\n",
       "        vertical-align: middle;\n",
       "    }\n",
       "\n",
       "    .dataframe tbody tr th {\n",
       "        vertical-align: top;\n",
       "    }\n",
       "\n",
       "    .dataframe thead th {\n",
       "        text-align: right;\n",
       "    }\n",
       "</style>\n",
       "<table border=\"1\" class=\"dataframe\">\n",
       "  <thead>\n",
       "    <tr style=\"text-align: right;\">\n",
       "      <th></th>\n",
       "      <th>RD_NO</th>\n",
       "    </tr>\n",
       "    <tr>\n",
       "      <th>Date</th>\n",
       "      <th></th>\n",
       "    </tr>\n",
       "  </thead>\n",
       "  <tbody>\n",
       "    <tr>\n",
       "      <th>2023-04-01</th>\n",
       "      <td>208690</td>\n",
       "    </tr>\n",
       "    <tr>\n",
       "      <th>2023-04-01</th>\n",
       "      <td>207420</td>\n",
       "    </tr>\n",
       "    <tr>\n",
       "      <th>2023-04-01</th>\n",
       "      <td>207431</td>\n",
       "    </tr>\n",
       "    <tr>\n",
       "      <th>2023-04-01</th>\n",
       "      <td>207533</td>\n",
       "    </tr>\n",
       "    <tr>\n",
       "      <th>2023-04-01</th>\n",
       "      <td>209551</td>\n",
       "    </tr>\n",
       "    <tr>\n",
       "      <th>2023-04-01</th>\n",
       "      <td>218494</td>\n",
       "    </tr>\n",
       "    <tr>\n",
       "      <th>2023-04-01</th>\n",
       "      <td>207634</td>\n",
       "    </tr>\n",
       "    <tr>\n",
       "      <th>2023-04-01</th>\n",
       "      <td>207491</td>\n",
       "    </tr>\n",
       "    <tr>\n",
       "      <th>2023-04-01</th>\n",
       "      <td>207436</td>\n",
       "    </tr>\n",
       "    <tr>\n",
       "      <th>2023-04-01</th>\n",
       "      <td>209950</td>\n",
       "    </tr>\n",
       "    <tr>\n",
       "      <th>2023-04-01</th>\n",
       "      <td>213349</td>\n",
       "    </tr>\n",
       "    <tr>\n",
       "      <th>2023-04-01</th>\n",
       "      <td>207465</td>\n",
       "    </tr>\n",
       "    <tr>\n",
       "      <th>2023-04-01</th>\n",
       "      <td>207442</td>\n",
       "    </tr>\n",
       "    <tr>\n",
       "      <th>2023-04-01</th>\n",
       "      <td>207468</td>\n",
       "    </tr>\n",
       "    <tr>\n",
       "      <th>2023-04-01</th>\n",
       "      <td>215600</td>\n",
       "    </tr>\n",
       "    <tr>\n",
       "      <th>2023-04-01</th>\n",
       "      <td>207445</td>\n",
       "    </tr>\n",
       "    <tr>\n",
       "      <th>2023-04-01</th>\n",
       "      <td>208040</td>\n",
       "    </tr>\n",
       "    <tr>\n",
       "      <th>2023-04-01</th>\n",
       "      <td>207503</td>\n",
       "    </tr>\n",
       "    <tr>\n",
       "      <th>2023-04-01</th>\n",
       "      <td>207458</td>\n",
       "    </tr>\n",
       "    <tr>\n",
       "      <th>2023-04-01</th>\n",
       "      <td>207549</td>\n",
       "    </tr>\n",
       "  </tbody>\n",
       "</table>\n",
       "</div>"
      ],
      "text/plain": [
       "             RD_NO\n",
       "Date              \n",
       "2023-04-01  208690\n",
       "2023-04-01  207420\n",
       "2023-04-01  207431\n",
       "2023-04-01  207533\n",
       "2023-04-01  209551\n",
       "2023-04-01  218494\n",
       "2023-04-01  207634\n",
       "2023-04-01  207491\n",
       "2023-04-01  207436\n",
       "2023-04-01  209950\n",
       "2023-04-01  213349\n",
       "2023-04-01  207465\n",
       "2023-04-01  207442\n",
       "2023-04-01  207468\n",
       "2023-04-01  215600\n",
       "2023-04-01  207445\n",
       "2023-04-01  208040\n",
       "2023-04-01  207503\n",
       "2023-04-01  207458\n",
       "2023-04-01  207549"
      ]
     },
     "execution_count": 166,
     "metadata": {},
     "output_type": "execute_result"
    }
   ],
   "source": [
    "train.head(20)"
   ]
  },
  {
   "cell_type": "code",
   "execution_count": 167,
   "id": "0142c1e2",
   "metadata": {},
   "outputs": [
    {
     "data": {
      "text/plain": [
       "DatetimeIndex(['2023-04-01', '2023-04-02', '2023-04-03', '2023-04-04',\n",
       "               '2023-04-05', '2023-04-06', '2023-04-07', '2023-04-08',\n",
       "               '2023-04-09', '2023-04-10', '2023-04-11', '2023-04-12',\n",
       "               '2023-04-13', '2023-04-14', '2023-04-15', '2023-04-16',\n",
       "               '2023-04-17', '2023-04-18', '2023-04-19', '2023-04-20',\n",
       "               '2023-04-21', '2023-04-22', '2023-04-23', '2023-04-24',\n",
       "               '2023-04-25', '2023-04-26', '2023-04-27', '2023-04-28',\n",
       "               '2023-04-29', '2023-04-30', '2023-05-01', '2023-05-02',\n",
       "               '2023-05-03', '2023-05-04', '2023-05-05', '2023-05-06',\n",
       "               '2023-05-07', '2023-05-08', '2023-05-09', '2023-05-10',\n",
       "               '2023-05-11', '2023-05-12', '2023-05-13', '2023-05-14',\n",
       "               '2023-05-15', '2023-05-16', '2023-05-17', '2023-05-18',\n",
       "               '2023-05-19', '2023-05-20', '2023-05-21', '2023-05-22',\n",
       "               '2023-05-23', '2023-05-24', '2023-05-25', '2023-05-26',\n",
       "               '2023-05-27', '2023-05-28', '2023-05-29', '2023-05-30',\n",
       "               '2023-05-31'],\n",
       "              dtype='datetime64[ns]', name='Date', freq=None)"
      ]
     },
     "execution_count": 167,
     "metadata": {},
     "output_type": "execute_result"
    }
   ],
   "source": [
    "train.index.unique()\n",
    "\n",
    "## all are unique Date present in the dataset after filtering"
   ]
  },
  {
   "cell_type": "code",
   "execution_count": 168,
   "id": "ef4a792f",
   "metadata": {},
   "outputs": [
    {
     "data": {
      "text/plain": [
       "<AxesSubplot:xlabel='Date'>"
      ]
     },
     "execution_count": 168,
     "metadata": {},
     "output_type": "execute_result"
    },
    {
     "data": {
      "image/png": "[encoded data removed]",
      "text/plain": [
       "<Figure size 432x288 with 1 Axes>"
      ]
     },
     "metadata": {
      "needs_background": "light"
     },
     "output_type": "display_data"
    }
   ],
   "source": [
    "##### performing Time Series analysis\n",
    "\n",
    "train['RD_NO'] = train['RD_NO'].astype('int')\n",
    "train.plot()\n",
    "\n",
    "## ploting the plot to check the seasionality of the dat"
   ]
  },
  {
   "cell_type": "code",
   "execution_count": 169,
   "id": "878c6912",
   "metadata": {},
   "outputs": [],
   "source": [
    "# statistical test to check the sesionality of the data\n",
    "\n",
    "test_result=adfuller(train['RD_NO'])"
   ]
  },
  {
   "cell_type": "code",
   "execution_count": 170,
   "id": "ffb096ba",
   "metadata": {},
   "outputs": [],
   "source": [
    "#Ho: It is non stationary\n",
    "#H1: It is stationary\n",
    "\n",
    "def adfuller_test(sales):\n",
    "    result=adfuller(sales)\n",
    "    labels = ['ADF Test Statistic','p-value','#Lags Used','Number of Observations Used']\n",
    "    for value,label in zip(result,labels):\n",
    "        print(label+' : '+str(value) )\n",
    "    if result[1] <= 0.05:\n",
    "        print(\"reject the null hypothesis. Data is seasional\")\n",
    "    else:\n",
    "        print(\"accepted alternate hypothesis data is non seasional \")\n",
    "    "
   ]
  },
  {
   "cell_type": "code",
   "execution_count": 171,
   "id": "d12ebf70",
   "metadata": {},
   "outputs": [
    {
     "name": "stdout",
     "output_type": "stream",
     "text": [
      "ADF Test Statistic : -1.4056246100190677\n",
      "p-value : 0.5795766589660839\n",
      "#Lags Used : 45\n",
      "Number of Observations Used : 19026\n",
      "accepted alternate hypothesis data is non seasional \n"
     ]
    }
   ],
   "source": [
    "adfuller_test(train['RD_NO'])\n",
    "\n",
    "# so my data is  non seasional data\n",
    "# it is cleared by adfuller test, based on the p_value"
   ]
  },
  {
   "cell_type": "code",
   "execution_count": 175,
   "id": "2c63367a",
   "metadata": {},
   "outputs": [],
   "source": [
    "########### Transforming non seasional to seasional formate\n",
    "\n",
    "train['Seasonal First Difference'] = train['RD_NO'] - train['RD_NO'].shift(1)"
   ]
  },
  {
   "cell_type": "code",
   "execution_count": 176,
   "id": "00d03c57",
   "metadata": {},
   "outputs": [
    {
     "data": {
      "text/html": [
       "<div>\n",
       "<style scoped>\n",
       "    .dataframe tbody tr th:only-of-type {\n",
       "        vertical-align: middle;\n",
       "    }\n",
       "\n",
       "    .dataframe tbody tr th {\n",
       "        vertical-align: top;\n",
       "    }\n",
       "\n",
       "    .dataframe thead th {\n",
       "        text-align: right;\n",
       "    }\n",
       "</style>\n",
       "<table border=\"1\" class=\"dataframe\">\n",
       "  <thead>\n",
       "    <tr style=\"text-align: right;\">\n",
       "      <th></th>\n",
       "      <th>RD_NO</th>\n",
       "      <th>Seasonal First Difference</th>\n",
       "    </tr>\n",
       "    <tr>\n",
       "      <th>Date</th>\n",
       "      <th></th>\n",
       "      <th></th>\n",
       "    </tr>\n",
       "  </thead>\n",
       "  <tbody>\n",
       "    <tr>\n",
       "      <th>2023-04-01</th>\n",
       "      <td>208690</td>\n",
       "      <td>NaN</td>\n",
       "    </tr>\n",
       "    <tr>\n",
       "      <th>2023-04-01</th>\n",
       "      <td>207420</td>\n",
       "      <td>-1270.0</td>\n",
       "    </tr>\n",
       "    <tr>\n",
       "      <th>2023-04-01</th>\n",
       "      <td>207431</td>\n",
       "      <td>11.0</td>\n",
       "    </tr>\n",
       "    <tr>\n",
       "      <th>2023-04-01</th>\n",
       "      <td>207533</td>\n",
       "      <td>102.0</td>\n",
       "    </tr>\n",
       "    <tr>\n",
       "      <th>2023-04-01</th>\n",
       "      <td>209551</td>\n",
       "      <td>2018.0</td>\n",
       "    </tr>\n",
       "  </tbody>\n",
       "</table>\n",
       "</div>"
      ],
      "text/plain": [
       "             RD_NO  Seasonal First Difference\n",
       "Date                                         \n",
       "2023-04-01  208690                        NaN\n",
       "2023-04-01  207420                    -1270.0\n",
       "2023-04-01  207431                       11.0\n",
       "2023-04-01  207533                      102.0\n",
       "2023-04-01  209551                     2018.0"
      ]
     },
     "execution_count": 176,
     "metadata": {},
     "output_type": "execute_result"
    }
   ],
   "source": [
    "train.head()"
   ]
  },
  {
   "cell_type": "code",
   "execution_count": 177,
   "id": "c403ca61",
   "metadata": {},
   "outputs": [
    {
     "name": "stdout",
     "output_type": "stream",
     "text": [
      "ADF Test Statistic : -35.183279700217966\n",
      "p-value : 0.0\n",
      "#Lags Used : 45\n",
      "Number of Observations Used : 19025\n",
      "reject the null hypothesis. Data is seasional\n"
     ]
    }
   ],
   "source": [
    "## Again check the adfuller test\n",
    "\n",
    "adfuller_test(train['Seasonal First Difference'].dropna())\n",
    "\n",
    "### now i transformed this dataset inton seasional dataset"
   ]
  },
  {
   "cell_type": "code",
   "execution_count": 178,
   "id": "192ca49e",
   "metadata": {},
   "outputs": [
    {
     "data": {
      "text/plain": [
       "[<matplotlib.lines.Line2D at 0x2ca8ebd7bb0>]"
      ]
     },
     "execution_count": 178,
     "metadata": {},
     "output_type": "execute_result"
    },
    {
     "data": {
      "image/png": "[encoded data removed]",
      "text/plain": [
       "<Figure size 864x576 with 1 Axes>"
      ]
     },
     "metadata": {
      "needs_background": "light"
     },
     "output_type": "display_data"
    }
   ],
   "source": [
    "plt.figure(figsize=(12,8))\n",
    "plt.plot(train['Seasonal First Difference'])\n",
    "\n",
    "# as you can see clearly my data is seasional"
   ]
  },
  {
   "cell_type": "code",
   "execution_count": 179,
   "id": "4ea05f08",
   "metadata": {},
   "outputs": [],
   "source": [
    "import statsmodels.api as sm\n",
    "## to plot pcaf,acaf"
   ]
  },
  {
   "cell_type": "code",
   "execution_count": 180,
   "id": "65c43377",
   "metadata": {},
   "outputs": [
    {
     "name": "stderr",
     "output_type": "stream",
     "text": [
      "C:\\Users\\Ranjit Singh\\AppData\\Local\\Programs\\Python\\Python310\\lib\\site-packages\\statsmodels\\graphics\\tsaplots.py:348: FutureWarning: The default method 'yw' can produce PACF values outside of the [-1,1] interval. After 0.13, the default will change tounadjusted Yule-Walker ('ywm'). You can use this method now by setting method='ywm'.\n",
      "  warnings.warn(\n"
     ]
    },
    {
     "data": {
      "image/png": "[encoded data removed]",
      "text/plain": [
       "<Figure size 864x576 with 2 Axes>"
      ]
     },
     "metadata": {
      "needs_background": "light"
     },
     "output_type": "display_data"
    }
   ],
   "source": [
    "fig = plt.figure(figsize=(12,8))\n",
    "ax1 = fig.add_subplot(211)\n",
    "fig = sm.graphics.tsa.plot_acf(train['Seasonal First Difference'].iloc[1:],lags=40,ax=ax1)\n",
    "ax2 = fig.add_subplot(212)\n",
    "fig = sm.graphics.tsa.plot_pacf(train['Seasonal First Difference'].iloc[1:],lags=40,ax=ax2)"
   ]
  },
  {
   "cell_type": "code",
   "execution_count": 181,
   "id": "60b79c34",
   "metadata": {},
   "outputs": [],
   "source": [
    "\n",
    "#p=1, d=1, q=0 or 1\n",
    "\n",
    "from statsmodels.tsa.arima_model import ARIMA"
   ]
  },
  {
   "cell_type": "code",
   "execution_count": 244,
   "id": "3d35cc96",
   "metadata": {},
   "outputs": [
    {
     "name": "stderr",
     "output_type": "stream",
     "text": [
      "C:\\Users\\Ranjit Singh\\AppData\\Local\\Programs\\Python\\Python310\\lib\\site-packages\\statsmodels\\tsa\\base\\tsa_model.py:471: ValueWarning: A date index has been provided, but it has no associated frequency information and so will be ignored when e.g. forecasting.\n",
      "  self._init_dates(dates, freq)\n",
      "C:\\Users\\Ranjit Singh\\AppData\\Local\\Programs\\Python\\Python310\\lib\\site-packages\\statsmodels\\tsa\\base\\tsa_model.py:471: ValueWarning: A date index has been provided, but it has no associated frequency information and so will be ignored when e.g. forecasting.\n",
      "  self._init_dates(dates, freq)\n"
     ]
    }
   ],
   "source": [
    "# fiting the SARIMA Model because our dataset is not seasional datset.\n",
    "# and SARIMA work well on non-seasional dataset\n",
    "\n",
    "model=sm.tsa.statespace.SARIMAX(train['RD_NO'],order=(1, 1, 1),seasonal_order=(1,1,1,2))\n",
    "results=model.fit()"
   ]
  },
  {
   "cell_type": "code",
   "execution_count": 245,
   "id": "7ff1c425",
   "metadata": {},
   "outputs": [
    {
     "data": {
      "text/html": [
       "<table class=\"simpletable\">\n",
       "<caption>SARIMAX Results</caption>\n",
       "<tr>\n",
       "  <th>Dep. Variable:</th>               <td>RD_NO</td>             <th>  No. Observations:  </th>    <td>19072</td>   \n",
       "</tr>\n",
       "<tr>\n",
       "  <th>Model:</th>           <td>SARIMAX(1, 1, 1)x(1, 1, 1, 2)</td> <th>  Log Likelihood     </th> <td>-207178.767</td>\n",
       "</tr>\n",
       "<tr>\n",
       "  <th>Date:</th>                  <td>Thu, 20 Jul 2023</td>        <th>  AIC                </th> <td>414367.533</td> \n",
       "</tr>\n",
       "<tr>\n",
       "  <th>Time:</th>                      <td>22:23:25</td>            <th>  BIC                </th> <td>414406.812</td> \n",
       "</tr>\n",
       "<tr>\n",
       "  <th>Sample:</th>                        <td>0</td>               <th>  HQIC               </th> <td>414380.414</td> \n",
       "</tr>\n",
       "<tr>\n",
       "  <th></th>                           <td> - 19072</td>            <th>                     </th>      <td> </td>     \n",
       "</tr>\n",
       "<tr>\n",
       "  <th>Covariance Type:</th>              <td>opg</td>              <th>                     </th>      <td> </td>     \n",
       "</tr>\n",
       "</table>\n",
       "<table class=\"simpletable\">\n",
       "<tr>\n",
       "     <td></td>        <th>coef</th>     <th>std err</th>      <th>z</th>      <th>P>|z|</th>  <th>[0.025</th>    <th>0.975]</th>  \n",
       "</tr>\n",
       "<tr>\n",
       "  <th>ar.L1</th>   <td>    0.0468</td> <td>    0.010</td> <td>    4.481</td> <td> 0.000</td> <td>    0.026</td> <td>    0.067</td>\n",
       "</tr>\n",
       "<tr>\n",
       "  <th>ma.L1</th>   <td>   -0.9961</td> <td>    0.003</td> <td> -308.324</td> <td> 0.000</td> <td>   -1.002</td> <td>   -0.990</td>\n",
       "</tr>\n",
       "<tr>\n",
       "  <th>ar.S.L2</th> <td>    0.0196</td> <td>    0.019</td> <td>    1.057</td> <td> 0.291</td> <td>   -0.017</td> <td>    0.056</td>\n",
       "</tr>\n",
       "<tr>\n",
       "  <th>ma.S.L2</th> <td>   -0.9990</td> <td>    0.002</td> <td> -525.829</td> <td> 0.000</td> <td>   -1.003</td> <td>   -0.995</td>\n",
       "</tr>\n",
       "<tr>\n",
       "  <th>sigma2</th>  <td> 3.196e+08</td> <td> 3.29e-11</td> <td> 9.73e+18</td> <td> 0.000</td> <td>  3.2e+08</td> <td>  3.2e+08</td>\n",
       "</tr>\n",
       "</table>\n",
       "<table class=\"simpletable\">\n",
       "<tr>\n",
       "  <th>Ljung-Box (L1) (Q):</th>     <td>0.95</td> <th>  Jarque-Bera (JB):  </th> <td>2071083172.84</td>\n",
       "</tr>\n",
       "<tr>\n",
       "  <th>Prob(Q):</th>                <td>0.33</td> <th>  Prob(JB):          </th>     <td>0.00</td>     \n",
       "</tr>\n",
       "<tr>\n",
       "  <th>Heteroskedasticity (H):</th> <td>2.10</td> <th>  Skew:              </th>     <td>31.28</td>    \n",
       "</tr>\n",
       "<tr>\n",
       "  <th>Prob(H) (two-sided):</th>    <td>0.00</td> <th>  Kurtosis:          </th>    <td>1616.30</td>   \n",
       "</tr>\n",
       "</table><br/><br/>Warnings:<br/>[1] Covariance matrix calculated using the outer product of gradients (complex-step).<br/>[2] Covariance matrix is singular or near-singular, with condition number 1.85e+33. Standard errors may be unstable."
      ],
      "text/plain": [
       "<class 'statsmodels.iolib.summary.Summary'>\n",
       "\"\"\"\n",
       "                                     SARIMAX Results                                     \n",
       "=========================================================================================\n",
       "Dep. Variable:                             RD_NO   No. Observations:                19072\n",
       "Model:             SARIMAX(1, 1, 1)x(1, 1, 1, 2)   Log Likelihood             -207178.767\n",
       "Date:                           Thu, 20 Jul 2023   AIC                         414367.533\n",
       "Time:                                   22:23:25   BIC                         414406.812\n",
       "Sample:                                        0   HQIC                        414380.414\n",
       "                                         - 19072                                         \n",
       "Covariance Type:                             opg                                         \n",
       "==============================================================================\n",
       "                 coef    std err          z      P>|z|      [0.025      0.975]\n",
       "------------------------------------------------------------------------------\n",
       "ar.L1          0.0468      0.010      4.481      0.000       0.026       0.067\n",
       "ma.L1         -0.9961      0.003   -308.324      0.000      -1.002      -0.990\n",
       "ar.S.L2        0.0196      0.019      1.057      0.291      -0.017       0.056\n",
       "ma.S.L2       -0.9990      0.002   -525.829      0.000      -1.003      -0.995\n",
       "sigma2      3.196e+08   3.29e-11   9.73e+18      0.000     3.2e+08     3.2e+08\n",
       "===================================================================================\n",
       "Ljung-Box (L1) (Q):                   0.95   Jarque-Bera (JB):        2071083172.84\n",
       "Prob(Q):                              0.33   Prob(JB):                         0.00\n",
       "Heteroskedasticity (H):               2.10   Skew:                            31.28\n",
       "Prob(H) (two-sided):                  0.00   Kurtosis:                      1616.30\n",
       "===================================================================================\n",
       "\n",
       "Warnings:\n",
       "[1] Covariance matrix calculated using the outer product of gradients (complex-step).\n",
       "[2] Covariance matrix is singular or near-singular, with condition number 1.85e+33. Standard errors may be unstable.\n",
       "\"\"\""
      ]
     },
     "execution_count": 245,
     "metadata": {},
     "output_type": "execute_result"
    }
   ],
   "source": [
    "results.summary()\n",
    "# printing summary of the model"
   ]
  },
  {
   "cell_type": "code",
   "execution_count": 275,
   "id": "6a350cf1",
   "metadata": {},
   "outputs": [
    {
     "name": "stderr",
     "output_type": "stream",
     "text": [
      "C:\\Users\\Ranjit Singh\\AppData\\Local\\Programs\\Python\\Python310\\lib\\site-packages\\statsmodels\\tsa\\base\\tsa_model.py:834: ValueWarning: No supported index is available. Prediction results will be given with an integer index beginning at `start`.\n",
      "  return get_prediction_index(\n"
     ]
    }
   ],
   "source": [
    "forecast = results.get_forecast(steps=6385) \n",
    "## forecasting the next 6385  datapoint of jun MONTH\n",
    "## because 6385 are datapoint to evalution the prediction"
   ]
  },
  {
   "cell_type": "code",
   "execution_count": 187,
   "id": "659c7718",
   "metadata": {},
   "outputs": [
    {
     "data": {
      "text/plain": [
       "<statsmodels.tsa.statespace.sarimax.SARIMAXResultsWrapper at 0x2ca8da143d0>"
      ]
     },
     "execution_count": 187,
     "metadata": {},
     "output_type": "execute_result"
    }
   ],
   "source": [
    "results"
   ]
  },
  {
   "cell_type": "code",
   "execution_count": 276,
   "id": "beb9004d",
   "metadata": {},
   "outputs": [],
   "source": [
    "forecast_values = forecast.predicted_mean"
   ]
  },
  {
   "cell_type": "code",
   "execution_count": 281,
   "id": "f371c5b1",
   "metadata": {},
   "outputs": [
    {
     "data": {
      "text/plain": [
       "array([283346.24918911, 283423.26118872, 283414.38969354, ...,\n",
       "       307675.83761194, 307711.62406804, 307683.4426718 ])"
      ]
     },
     "execution_count": 281,
     "metadata": {},
     "output_type": "execute_result"
    }
   ],
   "source": [
    "forecast_values.values\n",
    "# all are forecasted result"
   ]
  },
  {
   "cell_type": "code",
   "execution_count": 280,
   "id": "bc3bb4fe",
   "metadata": {},
   "outputs": [
    {
     "data": {
      "text/plain": [
       "6385"
      ]
     },
     "execution_count": 280,
     "metadata": {},
     "output_type": "execute_result"
    }
   ],
   "source": [
    "len(forecast_values.values)\n",
    "# len of forecast result"
   ]
  },
  {
   "cell_type": "code",
   "execution_count": 282,
   "id": "fc4debf0",
   "metadata": {},
   "outputs": [
    {
     "data": {
      "text/plain": [
       "[<matplotlib.lines.Line2D at 0x2cab8bc03a0>]"
      ]
     },
     "execution_count": 282,
     "metadata": {},
     "output_type": "execute_result"
    },
    {
     "data": {
      "image/png": "[encoded data removed]",
      "text/plain": [
       "<Figure size 432x288 with 1 Axes>"
      ]
     },
     "metadata": {
      "needs_background": "light"
     },
     "output_type": "display_data"
    }
   ],
   "source": [
    "plt.plot(forecast_values.values)\n",
    "## forcasted result in linear fashion"
   ]
  },
  {
   "cell_type": "code",
   "execution_count": 290,
   "id": "3b9f9ea7",
   "metadata": {},
   "outputs": [],
   "source": [
    "compare = pd.DataFrame({'JUN_RD_NO_TP':test['RD_NO'].values,'JUN_RD_NO_forecaset':forecast_values.values})\n",
    "## prepare a pandas dataframe to evaluate the forecasting"
   ]
  },
  {
   "cell_type": "code",
   "execution_count": 291,
   "id": "24b3e94f",
   "metadata": {},
   "outputs": [
    {
     "data": {
      "text/html": [
       "<div>\n",
       "<style scoped>\n",
       "    .dataframe tbody tr th:only-of-type {\n",
       "        vertical-align: middle;\n",
       "    }\n",
       "\n",
       "    .dataframe tbody tr th {\n",
       "        vertical-align: top;\n",
       "    }\n",
       "\n",
       "    .dataframe thead th {\n",
       "        text-align: right;\n",
       "    }\n",
       "</style>\n",
       "<table border=\"1\" class=\"dataframe\">\n",
       "  <thead>\n",
       "    <tr style=\"text-align: right;\">\n",
       "      <th></th>\n",
       "      <th>JUN_RD_NO_TP</th>\n",
       "      <th>JUN_RD_NO_forecaset</th>\n",
       "    </tr>\n",
       "  </thead>\n",
       "  <tbody>\n",
       "    <tr>\n",
       "      <th>0</th>\n",
       "      <td>284171</td>\n",
       "      <td>283346.249189</td>\n",
       "    </tr>\n",
       "    <tr>\n",
       "      <th>1</th>\n",
       "      <td>284191</td>\n",
       "      <td>283423.261189</td>\n",
       "    </tr>\n",
       "    <tr>\n",
       "      <th>2</th>\n",
       "      <td>284208</td>\n",
       "      <td>283414.389694</td>\n",
       "    </tr>\n",
       "    <tr>\n",
       "      <th>3</th>\n",
       "      <td>284219</td>\n",
       "      <td>283451.074856</td>\n",
       "    </tr>\n",
       "    <tr>\n",
       "      <th>4</th>\n",
       "      <td>284234</td>\n",
       "      <td>283423.275901</td>\n",
       "    </tr>\n",
       "    <tr>\n",
       "      <th>...</th>\n",
       "      <td>...</td>\n",
       "      <td>...</td>\n",
       "    </tr>\n",
       "    <tr>\n",
       "      <th>6380</th>\n",
       "      <td>308866</td>\n",
       "      <td>307668.232552</td>\n",
       "    </tr>\n",
       "    <tr>\n",
       "      <th>6381</th>\n",
       "      <td>308868</td>\n",
       "      <td>307704.019008</td>\n",
       "    </tr>\n",
       "    <tr>\n",
       "      <th>6382</th>\n",
       "      <td>308802</td>\n",
       "      <td>307675.837612</td>\n",
       "    </tr>\n",
       "    <tr>\n",
       "      <th>6383</th>\n",
       "      <td>308855</td>\n",
       "      <td>307711.624068</td>\n",
       "    </tr>\n",
       "    <tr>\n",
       "      <th>6384</th>\n",
       "      <td>309851</td>\n",
       "      <td>307683.442672</td>\n",
       "    </tr>\n",
       "  </tbody>\n",
       "</table>\n",
       "<p>6385 rows × 2 columns</p>\n",
       "</div>"
      ],
      "text/plain": [
       "     JUN_RD_NO_TP  JUN_RD_NO_forecaset\n",
       "0          284171        283346.249189\n",
       "1          284191        283423.261189\n",
       "2          284208        283414.389694\n",
       "3          284219        283451.074856\n",
       "4          284234        283423.275901\n",
       "...           ...                  ...\n",
       "6380       308866        307668.232552\n",
       "6381       308868        307704.019008\n",
       "6382       308802        307675.837612\n",
       "6383       308855        307711.624068\n",
       "6384       309851        307683.442672\n",
       "\n",
       "[6385 rows x 2 columns]"
      ]
     },
     "execution_count": 291,
     "metadata": {},
     "output_type": "execute_result"
    }
   ],
   "source": [
    "compare\n",
    "## this dataframe containing actual datapoint of jun month and predicted point of jun month\n",
    "# actual data point of jun month    -->       JUN_RD_NO_TP\n",
    "# predicted data point of jun month -->       JUN_RD_NO_forecaset"
   ]
  },
  {
   "cell_type": "code",
   "execution_count": 292,
   "id": "e8ef722b",
   "metadata": {},
   "outputs": [],
   "source": [
    "compare['JUN_RD_NO_TP'] = compare['JUN_RD_NO_TP'].astype('int')\n",
    "# converting into int to for evaluation"
   ]
  },
  {
   "cell_type": "code",
   "execution_count": 293,
   "id": "68bbc228",
   "metadata": {},
   "outputs": [
    {
     "data": {
      "text/plain": [
       "JUN_RD_NO_TP             int32\n",
       "JUN_RD_NO_forecaset    float64\n",
       "dtype: object"
      ]
     },
     "execution_count": 293,
     "metadata": {},
     "output_type": "execute_result"
    }
   ],
   "source": [
    "compare.dtypes"
   ]
  },
  {
   "cell_type": "code",
   "execution_count": 296,
   "id": "bbc6c2b9",
   "metadata": {},
   "outputs": [
    {
     "data": {
      "text/html": [
       "<div>\n",
       "<style scoped>\n",
       "    .dataframe tbody tr th:only-of-type {\n",
       "        vertical-align: middle;\n",
       "    }\n",
       "\n",
       "    .dataframe tbody tr th {\n",
       "        vertical-align: top;\n",
       "    }\n",
       "\n",
       "    .dataframe thead th {\n",
       "        text-align: right;\n",
       "    }\n",
       "</style>\n",
       "<table border=\"1\" class=\"dataframe\">\n",
       "  <thead>\n",
       "    <tr style=\"text-align: right;\">\n",
       "      <th></th>\n",
       "      <th>JUN_RD_NO_TP</th>\n",
       "      <th>JUN_RD_NO_forecaset</th>\n",
       "    </tr>\n",
       "  </thead>\n",
       "  <tbody>\n",
       "    <tr>\n",
       "      <th>count</th>\n",
       "      <td>6385.000000</td>\n",
       "      <td>6385.000000</td>\n",
       "    </tr>\n",
       "    <tr>\n",
       "      <th>mean</th>\n",
       "      <td>296646.428504</td>\n",
       "      <td>295561.743399</td>\n",
       "    </tr>\n",
       "    <tr>\n",
       "      <th>std</th>\n",
       "      <td>14549.997393</td>\n",
       "      <td>7009.377912</td>\n",
       "    </tr>\n",
       "    <tr>\n",
       "      <th>min</th>\n",
       "      <td>0.000000</td>\n",
       "      <td>283346.249189</td>\n",
       "    </tr>\n",
       "    <tr>\n",
       "      <th>25%</th>\n",
       "      <td>289771.000000</td>\n",
       "      <td>289492.139478</td>\n",
       "    </tr>\n",
       "    <tr>\n",
       "      <th>50%</th>\n",
       "      <td>296384.000000</td>\n",
       "      <td>295560.977249</td>\n",
       "    </tr>\n",
       "    <tr>\n",
       "      <th>75%</th>\n",
       "      <td>303128.000000</td>\n",
       "      <td>301629.815020</td>\n",
       "    </tr>\n",
       "    <tr>\n",
       "      <th>max</th>\n",
       "      <td>968865.000000</td>\n",
       "      <td>307711.624068</td>\n",
       "    </tr>\n",
       "  </tbody>\n",
       "</table>\n",
       "</div>"
      ],
      "text/plain": [
       "        JUN_RD_NO_TP  JUN_RD_NO_forecaset\n",
       "count    6385.000000          6385.000000\n",
       "mean   296646.428504        295561.743399\n",
       "std     14549.997393          7009.377912\n",
       "min         0.000000        283346.249189\n",
       "25%    289771.000000        289492.139478\n",
       "50%    296384.000000        295560.977249\n",
       "75%    303128.000000        301629.815020\n",
       "max    968865.000000        307711.624068"
      ]
     },
     "execution_count": 296,
     "metadata": {},
     "output_type": "execute_result"
    }
   ],
   "source": [
    "compare.describe()\n",
    "# as you can see statistical analysis on both columns\n",
    "# MEAN of both columns are approximately same, which means model worked well\n",
    "##"
   ]
  },
  {
   "cell_type": "code",
   "execution_count": 305,
   "id": "4cb20ffc",
   "metadata": {},
   "outputs": [],
   "source": [
    "from sklearn.metrics import mean_squared_error\n",
    "import seaborn as sns\n",
    "import numpy as np"
   ]
  },
  {
   "cell_type": "code",
   "execution_count": 304,
   "id": "190318ae",
   "metadata": {},
   "outputs": [
    {
     "data": {
      "text/plain": [
       "12525.934463407793"
      ]
     },
     "execution_count": 304,
     "metadata": {},
     "output_type": "execute_result"
    }
   ],
   "source": [
    "np.sqrt(mean_squared_error(compare['JUN_RD_NO_TP'],compare['JUN_RD_NO_forecaset']))\n",
    "\n",
    "# root mean squared error. is little bit high deu to outliers\n",
    "# but overall performance of model is fine"
   ]
  },
  {
   "cell_type": "code",
   "execution_count": 307,
   "id": "58fb3d02",
   "metadata": {},
   "outputs": [
    {
     "name": "stderr",
     "output_type": "stream",
     "text": [
      "C:\\Users\\Ranjit Singh\\AppData\\Local\\Programs\\Python\\Python310\\lib\\site-packages\\seaborn\\_decorators.py:36: FutureWarning: Pass the following variables as keyword args: x, y. From version 0.12, the only valid positional argument will be `data`, and passing other arguments without an explicit keyword will result in an error or misinterpretation.\n",
      "  warnings.warn(\n"
     ]
    },
    {
     "data": {
      "text/plain": [
       "<AxesSubplot:xlabel='JUN_RD_NO_TP'>"
      ]
     },
     "execution_count": 307,
     "metadata": {},
     "output_type": "execute_result"
    },
    {
     "data": {
      "image/png": "[encoded data removed]",
      "text/plain": [
       "<Figure size 432x288 with 1 Axes>"
      ]
     },
     "metadata": {
      "needs_background": "light"
     },
     "output_type": "display_data"
    }
   ],
   "source": [
    "sns.scatterplot(compare['JUN_RD_NO_TP'],compare['JUN_RD_NO_TP']-compare['JUN_RD_NO_forecaset'])\n",
    "## linear relationship in assumption"
   ]
  },
  {
   "cell_type": "code",
   "execution_count": 298,
   "id": "80b569bc",
   "metadata": {},
   "outputs": [
    {
     "data": {
      "text/plain": [
       "<AxesSubplot:>"
      ]
     },
     "execution_count": 298,
     "metadata": {},
     "output_type": "execute_result"
    },
    {
     "data": {
      "image/png": "[encoded data removed]",
      "text/plain": [
       "<Figure size 864x576 with 1 Axes>"
      ]
     },
     "metadata": {
      "needs_background": "light"
     },
     "output_type": "display_data"
    }
   ],
   "source": [
    "\n",
    "compare[['JUN_RD_NO_TP','JUN_RD_NO_forecaset']].plot(figsize=(12,8))\n",
    "## visualization chart for the forecast point with actual point\n",
    "## so our model is fitting with very good performance, we can easily see it"
   ]
  },
  {
   "cell_type": "markdown",
   "id": "0edab996",
   "metadata": {},
   "source": [
    "### THANK YOU 😊"
   ]
  },
  {
   "cell_type": "markdown",
   "id": "f3b852cb",
   "metadata": {},
   "source": [
    "<p style=\"text-align:center\">smartengineer0786@gmail.com</p>"
   ]
  }
 ],
 "metadata": {
  "kernelspec": {
   "display_name": "Python 3 (ipykernel)",
   "language": "python",
   "name": "python3"
  },
  "language_info": {
   "codemirror_mode": {
    "name": "ipython",
    "version": 3
   },
   "file_extension": ".py",
   "mimetype": "text/x-python",
   "name": "python",
   "nbconvert_exporter": "python",
   "pygments_lexer": "ipython3",
   "version": "3.10.6"
  }
 },
 "nbformat": 4,
 "nbformat_minor": 5
}
